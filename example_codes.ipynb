{
  "nbformat": 4,
  "nbformat_minor": 0,
  "metadata": {
    "colab": {
      "provenance": [],
      "toc_visible": true
    },
    "kernelspec": {
      "name": "python3",
      "display_name": "Python 3"
    },
    "language_info": {
      "name": "python"
    }
  },
  "cells": [
    {
      "cell_type": "markdown",
      "source": [
        "# **Pydantic**\n",
        "Pydantic, Python'da veri doğrulama ve ayar yönetimi için kullanılan bir kütüphanedir. Kütüphane, Python veri modelleri oluşturmayı kolaylaştırır ve\n",
        "bu modeller aracılığıyla verilerin doğruluğunu, tutarlılığını ve tip güvenliğini sağlamaya yardımcı olur.\n",
        "\n",
        "## Temel Özellikler\n",
        "### Veri Doğrulama ve Dönüştürme:\n",
        "\n",
        "*   Pydantic, verilen veri türlerini otomatik olarak doğrular ve gerekli dönüştürmeleri yapar. Örneğin, bir str tipi bir değeri int olarak belirtirseniz, Pydantic bu değeri otomatik olarak dönüştürür.\n",
        "\n",
        "### Veri Modelleri:\n",
        "*   Pydantic, veri modelleri oluşturmak için BaseModel sınıfını kullanır. Bu modeller, Python dataclass yapılarına benzer, ancak daha gelişmiş doğrulama ve dönüştürme yeteneklerine sahiptir.\n",
        "\n",
        "### JSON ve Diğer Veri Formatlarıyla Çalışma:\n",
        "*   Pydantic, JSON ve diğer veri formatlarını kolayca işleyebilir. Modellerinizi JSON, dict ve diğer formatlar arasında kolayca dönüştürebilirsiniz.\n",
        "\n",
        "### Ayar Yönetimi:\n",
        "*   Pydantic, uygulama ayarlarını yönetmek için de kullanılabilir. Örneğin, çevresel değişkenlerden veya konfigürasyon dosyalarından ayarları yükleyebilirsiniz."
      ],
      "metadata": {
        "id": "pmPLE3ku71za"
      }
    },
    {
      "cell_type": "markdown",
      "source": [
        "# Examples"
      ],
      "metadata": {
        "id": "4ithrmgw-9aJ"
      }
    },
    {
      "cell_type": "markdown",
      "source": [
        "## Example 1"
      ],
      "metadata": {
        "id": "XRos1WfU_BmI"
      }
    },
    {
      "cell_type": "code",
      "execution_count": 1,
      "metadata": {
        "colab": {
          "base_uri": "https://localhost:8080/"
        },
        "id": "qT-OLtF54HEj",
        "outputId": "de2b55e9-d7ca-49c7-accc-5224bfcee32c"
      },
      "outputs": [
        {
          "output_type": "stream",
          "name": "stdout",
          "text": [
            "datetime.datetime(2020, 1, 2, 3, 4, 5, tzinfo=TzInfo(UTC))\n",
            "(10, 20)\n"
          ]
        }
      ],
      "source": [
        "from datetime import datetime\n",
        "from typing import Tuple\n",
        "\n",
        "from pydantic import BaseModel\n",
        "\n",
        "\n",
        "class Delivery(BaseModel):\n",
        "    timestamp: datetime\n",
        "    dimensions: Tuple[int, int]\n",
        "\n",
        "\n",
        "m = Delivery(timestamp='2020-01-02T03:04:05Z', dimensions=['10', '20'])\n",
        "print(repr(m.timestamp))\n",
        "#> datetime.datetime(2020, 1, 2, 3, 4, 5, tzinfo=TzInfo(UTC))\n",
        "print(m.dimensions)\n",
        "#> (10, 20)"
      ]
    },
    {
      "cell_type": "markdown",
      "source": [
        "## Example 2"
      ],
      "metadata": {
        "id": "V-bqXPRp_F0n"
      }
    },
    {
      "cell_type": "code",
      "source": [
        "from datetime import datetime\n",
        "\n",
        "from pydantic import BaseModel, PositiveInt\n",
        "\n",
        "\n",
        "class User(BaseModel):\n",
        "    id: int\n",
        "    name: str = 'John Doe'\n",
        "    signup_ts: datetime | None\n",
        "    tastes: dict[str, PositiveInt]\n",
        "\n",
        "\n",
        "external_data = {\n",
        "    'id': 123,\n",
        "    'signup_ts': '2019-06-01 12:22',\n",
        "    'tastes': {\n",
        "        'wine': 9,\n",
        "        b'cheese': 7,\n",
        "        'cabbage': '1',\n",
        "    },\n",
        "}\n",
        "\n",
        "user = User(**external_data)\n",
        "\n",
        "print(user.id)\n",
        "#> 123\n",
        "print(user.model_dump())\n",
        "\"\"\"\n",
        "{\n",
        "    'id': 123,\n",
        "    'name': 'John Doe',\n",
        "    'signup_ts': datetime.datetime(2019, 6, 1, 12, 22),\n",
        "    'tastes': {'wine': 9, 'cheese': 7, 'cabbage': 1},\n",
        "}\n",
        "\"\"\""
      ],
      "metadata": {
        "colab": {
          "base_uri": "https://localhost:8080/",
          "height": 70
        },
        "id": "sOgqBq6H4VpF",
        "outputId": "74d3ac34-b0f0-45a1-bf5e-c27365870bdb"
      },
      "execution_count": 2,
      "outputs": [
        {
          "output_type": "stream",
          "name": "stdout",
          "text": [
            "123\n",
            "{'id': 123, 'name': 'John Doe', 'signup_ts': datetime.datetime(2019, 6, 1, 12, 22), 'tastes': {'wine': 9, 'cheese': 7, 'cabbage': 1}}\n"
          ]
        },
        {
          "output_type": "execute_result",
          "data": {
            "text/plain": [
              "\"\\n{\\n    'id': 123,\\n    'name': 'John Doe',\\n    'signup_ts': datetime.datetime(2019, 6, 1, 12, 22),\\n    'tastes': {'wine': 9, 'cheese': 7, 'cabbage': 1},\\n}\\n\""
            ],
            "application/vnd.google.colaboratory.intrinsic+json": {
              "type": "string"
            }
          },
          "metadata": {},
          "execution_count": 2
        }
      ]
    },
    {
      "cell_type": "markdown",
      "source": [
        "## Example 3 - Validation Error"
      ],
      "metadata": {
        "id": "TkJdN3Iy_HRi"
      }
    },
    {
      "cell_type": "code",
      "source": [
        "# continuing the above example...\n",
        "\n",
        "from pydantic import ValidationError\n",
        "\n",
        "\n",
        "class User(BaseModel):\n",
        "    id: int\n",
        "    name: str = 'John Doe'\n",
        "    signup_ts: datetime | None\n",
        "    tastes: dict[str, PositiveInt]\n",
        "\n",
        "\n",
        "external_data = {'id': 'not an int', 'tastes': {}}\n",
        "\n",
        "try:\n",
        "    User(**external_data)\n",
        "except ValidationError as e:\n",
        "    print(e.errors())\n",
        "    \"\"\"\n",
        "    [\n",
        "        {\n",
        "            'type': 'int_parsing',\n",
        "            'loc': ('id',),\n",
        "            'msg': 'Input should be a valid integer, unable to parse string as an integer',\n",
        "            'input': 'not an int',\n",
        "            'url': 'https://errors.pydantic.dev/2/v/int_parsing',\n",
        "        },\n",
        "        {\n",
        "            'type': 'missing',\n",
        "            'loc': ('signup_ts',),\n",
        "            'msg': 'Field required',\n",
        "            'input': {'id': 'not an int', 'tastes': {}},\n",
        "            'url': 'https://errors.pydantic.dev/2/v/missing',\n",
        "        },\n",
        "    ]\n",
        "    \"\"\""
      ],
      "metadata": {
        "colab": {
          "base_uri": "https://localhost:8080/"
        },
        "id": "iL8-KTm64hgQ",
        "outputId": "458108d4-59e5-458f-f9af-648b9b19d4c5"
      },
      "execution_count": 4,
      "outputs": [
        {
          "output_type": "stream",
          "name": "stdout",
          "text": [
            "[{'type': 'string_type', 'loc': ('id',), 'msg': 'Input should be a valid string', 'input': 2, 'url': 'https://errors.pydantic.dev/2.8/v/string_type'}, {'type': 'missing', 'loc': ('signup_ts',), 'msg': 'Field required', 'input': {'id': 2, 'tastes': {}}, 'url': 'https://errors.pydantic.dev/2.8/v/missing'}]\n"
          ]
        }
      ]
    },
    {
      "cell_type": "markdown",
      "source": [
        "## Example 4"
      ],
      "metadata": {
        "id": "4q2CrfSn_I5n"
      }
    },
    {
      "cell_type": "code",
      "source": [
        "from typing import Annotated, Dict, List, Literal, Tuple\n",
        "\n",
        "from annotated_types import Gt\n",
        "\n",
        "from pydantic import BaseModel\n",
        "\n",
        "\n",
        "class Fruit(BaseModel):\n",
        "    name: str\n",
        "    color: Literal['red', 'green']\n",
        "    weight: Annotated[float, Gt(0)]\n",
        "    bazam: Dict[str, List[Tuple[int, bool, float]]]\n",
        "\n",
        "\n",
        "print(\n",
        "    Fruit(\n",
        "        name='Apple',\n",
        "        color='red',\n",
        "        weight=4.2,\n",
        "        bazam={'foobar': [(1, True, 0.1)]},\n",
        "    )\n",
        ")\n",
        "#> name='Apple' color='red' weight=4.2 bazam={'foobar': [(1, True, 0.1)]}"
      ],
      "metadata": {
        "colab": {
          "base_uri": "https://localhost:8080/"
        },
        "id": "dOZbbG9L-2WS",
        "outputId": "a0000243-06ef-4181-d467-0818dc36a2bd"
      },
      "execution_count": 5,
      "outputs": [
        {
          "output_type": "stream",
          "name": "stdout",
          "text": [
            "name='Apple' color='red' weight=4.2 bazam={'foobar': [(1, True, 0.1)]}\n"
          ]
        }
      ]
    },
    {
      "cell_type": "markdown",
      "source": [
        "## Example 5 - Performance"
      ],
      "metadata": {
        "id": "E5DT5mkm_Wee"
      }
    },
    {
      "cell_type": "code",
      "source": [
        "import json\n",
        "import timeit\n",
        "from urllib.parse import urlparse\n",
        "\n",
        "import requests\n",
        "\n",
        "from pydantic import HttpUrl, TypeAdapter\n",
        "\n",
        "reps = 7\n",
        "number = 100\n",
        "r = requests.get('https://api.github.com/emojis')\n",
        "r.raise_for_status()\n",
        "emojis_json = r.content\n",
        "\n",
        "\n",
        "def emojis_pure_python(raw_data):\n",
        "    data = json.loads(raw_data)\n",
        "    output = {}\n",
        "    for key, value in data.items():\n",
        "        assert isinstance(key, str)\n",
        "        url = urlparse(value)\n",
        "        assert url.scheme in ('https', 'http')\n",
        "        output[key] = url\n",
        "\n",
        "\n",
        "emojis_pure_python_times = timeit.repeat(\n",
        "    'emojis_pure_python(emojis_json)',\n",
        "    globals={\n",
        "        'emojis_pure_python': emojis_pure_python,\n",
        "        'emojis_json': emojis_json,\n",
        "    },\n",
        "    repeat=reps,\n",
        "    number=number,\n",
        ")\n",
        "print(f'pure python: {min(emojis_pure_python_times) / number * 1000:0.2f}ms')\n",
        "\n",
        "type_adapter = TypeAdapter(dict[str, HttpUrl])\n",
        "emojis_pydantic_times = timeit.repeat(\n",
        "    'type_adapter.validate_json(emojis_json)',\n",
        "    globals={\n",
        "        'type_adapter': type_adapter,\n",
        "        'HttpUrl': HttpUrl,\n",
        "        'emojis_json': emojis_json,\n",
        "    },\n",
        "    repeat=reps,\n",
        "    number=number,\n",
        ")\n",
        "print(f'pydantic: {min(emojis_pydantic_times) / number * 1000:0.2f}ms')\n",
        "\n",
        "print(\n",
        "    f'Pydantic {min(emojis_pure_python_times) / min(emojis_pydantic_times):0.2f}x faster'\n",
        ")"
      ],
      "metadata": {
        "colab": {
          "base_uri": "https://localhost:8080/"
        },
        "id": "ldbAS7xJ_PLz",
        "outputId": "d1816ee3-dc7b-4073-8324-3c81f13450ec"
      },
      "execution_count": 6,
      "outputs": [
        {
          "output_type": "stream",
          "name": "stdout",
          "text": [
            "pure python: 14.55ms\n",
            "pydantic: 4.01ms\n",
            "Pydantic 3.63x faster\n"
          ]
        }
      ]
    },
    {
      "cell_type": "markdown",
      "source": [
        "## Example 6 - Serialization"
      ],
      "metadata": {
        "id": "CXeDbJOnArCA"
      }
    },
    {
      "cell_type": "code",
      "source": [
        "from datetime import datetime\n",
        "\n",
        "from pydantic import BaseModel\n",
        "\n",
        "\n",
        "class Meeting(BaseModel):\n",
        "    when: datetime\n",
        "    where: bytes\n",
        "    why: str = 'No idea'\n",
        "\n",
        "\n",
        "m = Meeting(when='2020-01-01T12:00', where='home')\n",
        "print(m.model_dump(exclude_unset=True)) # with 'exclude_unset=True' not getting 'why' variable because we did not give value\n",
        "#> {'when': datetime.datetime(2020, 1, 1, 12, 0), 'where': b'home'}\n",
        "print(m.model_dump(exclude={'where'}, mode='json'))\n",
        "#> {'when': '2020-01-01T12:00:00', 'why': 'No idea'}\n",
        "print(m.model_dump_json(exclude_defaults=True))# with 'exclude_defaults=True' not getting 'why' variable because it has default value\n",
        "#> {\"when\":\"2020-01-01T12:00:00\",\"where\":\"home\"}"
      ],
      "metadata": {
        "colab": {
          "base_uri": "https://localhost:8080/"
        },
        "id": "Teq2G366AxoD",
        "outputId": "02205d5d-89ee-47c3-fff5-3b1ae061a921"
      },
      "execution_count": 7,
      "outputs": [
        {
          "output_type": "stream",
          "name": "stdout",
          "text": [
            "{'when': datetime.datetime(2020, 1, 1, 12, 0), 'where': b'home'}\n",
            "{'when': '2020-01-01T12:00:00', 'why': 'No idea'}\n",
            "{\"when\":\"2020-01-01T12:00:00\",\"where\":\"home\"}\n"
          ]
        }
      ]
    },
    {
      "cell_type": "markdown",
      "source": [
        "## Example 7 - Json Schema"
      ],
      "metadata": {
        "id": "FI3iPWPHCiNL"
      }
    },
    {
      "cell_type": "code",
      "source": [
        "from datetime import datetime\n",
        "\n",
        "from pydantic import BaseModel\n",
        "\n",
        "\n",
        "class Address(BaseModel):\n",
        "    street: str\n",
        "    city: str\n",
        "    zipcode: str\n",
        "\n",
        "\n",
        "class Meeting(BaseModel):\n",
        "    when: datetime\n",
        "    where: Address\n",
        "    why: str = 'No idea'\n",
        "\n",
        "\n",
        "print(Meeting.model_json_schema())\n",
        "\"\"\"\n",
        "{\n",
        "    '$defs': {\n",
        "        'Address': {\n",
        "            'properties': {\n",
        "                'street': {'title': 'Street', 'type': 'string'},\n",
        "                'city': {'title': 'City', 'type': 'string'},\n",
        "                'zipcode': {'title': 'Zipcode', 'type': 'string'},\n",
        "            },\n",
        "            'required': ['street', 'city', 'zipcode'],\n",
        "            'title': 'Address',\n",
        "            'type': 'object',\n",
        "        }\n",
        "    },\n",
        "    'properties': {\n",
        "        'when': {'format': 'date-time', 'title': 'When', 'type': 'string'},\n",
        "        'where': {'$ref': '#/$defs/Address'},\n",
        "        'why': {'default': 'No idea', 'title': 'Why', 'type': 'string'},\n",
        "    },\n",
        "    'required': ['when', 'where'],\n",
        "    'title': 'Meeting',\n",
        "    'type': 'object',\n",
        "}\n",
        "\"\"\""
      ],
      "metadata": {
        "colab": {
          "base_uri": "https://localhost:8080/",
          "height": 142
        },
        "id": "S8XKdVVoClJu",
        "outputId": "1d0c9970-c8b5-449d-c10f-fcd8ea321bf3"
      },
      "execution_count": 8,
      "outputs": [
        {
          "output_type": "stream",
          "name": "stdout",
          "text": [
            "{'$defs': {'Address': {'properties': {'street': {'title': 'Street', 'type': 'string'}, 'city': {'title': 'City', 'type': 'string'}, 'zipcode': {'title': 'Zipcode', 'type': 'string'}}, 'required': ['street', 'city', 'zipcode'], 'title': 'Address', 'type': 'object'}}, 'properties': {'when': {'format': 'date-time', 'title': 'When', 'type': 'string'}, 'where': {'$ref': '#/$defs/Address'}, 'why': {'default': 'No idea', 'title': 'Why', 'type': 'string'}}, 'required': ['when', 'where'], 'title': 'Meeting', 'type': 'object'}\n"
          ]
        },
        {
          "output_type": "execute_result",
          "data": {
            "text/plain": [
              "\"\\n{\\n    '$defs': {\\n        'Address': {\\n            'properties': {\\n                'street': {'title': 'Street', 'type': 'string'},\\n                'city': {'title': 'City', 'type': 'string'},\\n                'zipcode': {'title': 'Zipcode', 'type': 'string'},\\n            },\\n            'required': ['street', 'city', 'zipcode'],\\n            'title': 'Address',\\n            'type': 'object',\\n        }\\n    },\\n    'properties': {\\n        'when': {'format': 'date-time', 'title': 'When', 'type': 'string'},\\n        'where': {'$ref': '#/$defs/Address'},\\n        'why': {'default': 'No idea', 'title': 'Why', 'type': 'string'},\\n    },\\n    'required': ['when', 'where'],\\n    'title': 'Meeting',\\n    'type': 'object',\\n}\\n\""
            ],
            "application/vnd.google.colaboratory.intrinsic+json": {
              "type": "string"
            }
          },
          "metadata": {},
          "execution_count": 8
        }
      ]
    },
    {
      "cell_type": "markdown",
      "source": [
        "## Example 8 - Strict Mode and Data Coercion"
      ],
      "metadata": {
        "id": "4yw22l-eDI3D"
      }
    },
    {
      "cell_type": "code",
      "source": [
        "from datetime import datetime\n",
        "\n",
        "from pydantic import BaseModel, ValidationError\n",
        "\n",
        "\n",
        "class Meeting(BaseModel):\n",
        "    when: datetime\n",
        "    where: bytes\n",
        "\n",
        "\n",
        "m = Meeting.model_validate({'when': '2020-01-01T12:00', 'where': 'home'})\n",
        "print(m)\n",
        "#> when=datetime.datetime(2020, 1, 1, 12, 0) where=b'home'\n",
        "try:\n",
        "    m = Meeting.model_validate(\n",
        "        {'when': '2020-01-01T12:00', 'where': 'home'}, strict=True\n",
        "    )\n",
        "except ValidationError as e:\n",
        "    print(e)\n",
        "    \"\"\"\n",
        "    2 validation errors for Meeting\n",
        "    when\n",
        "      Input should be a valid datetime [type=datetime_type, input_value='2020-01-01T12:00', input_type=str]\n",
        "    where\n",
        "      Input should be a valid bytes [type=bytes_type, input_value='home', input_type=str]\n",
        "    \"\"\"\n",
        "\n",
        "m_json = Meeting.model_validate_json(\n",
        "    '{\"when\": \"2020-01-01T12:00\", \"where\": \"home\"}'\n",
        ")\n",
        "print(m_json)\n",
        "#> when=datetime.datetime(2020, 1, 1, 12, 0) where=b'home'"
      ],
      "metadata": {
        "colab": {
          "base_uri": "https://localhost:8080/"
        },
        "id": "tvkRTbG0DIOz",
        "outputId": "d9eddbdc-9fa8-45e5-aab0-fb1b533f01f0"
      },
      "execution_count": 11,
      "outputs": [
        {
          "output_type": "stream",
          "name": "stdout",
          "text": [
            "when=datetime.datetime(2020, 1, 1, 12, 0) where=b'home'\n",
            "2 validation errors for Meeting\n",
            "when\n",
            "  Input should be a valid datetime [type=datetime_type, input_value='2020-01-01T12:00', input_type=str]\n",
            "    For further information visit https://errors.pydantic.dev/2.8/v/datetime_type\n",
            "where\n",
            "  Input should be a valid bytes [type=bytes_type, input_value='home', input_type=str]\n",
            "    For further information visit https://errors.pydantic.dev/2.8/v/bytes_type\n",
            "when=datetime.datetime(2020, 1, 1, 12, 0) where=b'home'\n"
          ]
        }
      ]
    },
    {
      "cell_type": "markdown",
      "source": [
        "## Example 9 - Dataclasses, TypedDicts, and More"
      ],
      "metadata": {
        "id": "ZYBH3jImE-5a"
      }
    },
    {
      "cell_type": "code",
      "source": [
        "from datetime import datetime\n",
        "\n",
        "from typing_extensions import NotRequired, TypedDict\n",
        "\n",
        "from pydantic import TypeAdapter\n",
        "\n",
        "\n",
        "class Meeting(TypedDict):\n",
        "    when: datetime\n",
        "    where: bytes\n",
        "    why: NotRequired[str]\n",
        "\n",
        "\n",
        "meeting_adapter = TypeAdapter(Meeting)\n",
        "m = meeting_adapter.validate_python(\n",
        "    {'when': '2020-01-01T12:00', 'where': 'home'}\n",
        ")\n",
        "print(m)\n",
        "#> {'when': datetime.datetime(2020, 1, 1, 12, 0), 'where': b'home'}\n",
        "meeting_adapter.dump_python(m, exclude={'where'})\n",
        "\n",
        "print(meeting_adapter.json_schema())\n",
        "\"\"\"\n",
        "{\n",
        "    'properties': {\n",
        "        'when': {'format': 'date-time', 'title': 'When', 'type': 'string'},\n",
        "        'where': {'format': 'binary', 'title': 'Where', 'type': 'string'},\n",
        "        'why': {'title': 'Why', 'type': 'string'},\n",
        "    },\n",
        "    'required': ['when', 'where'],\n",
        "    'title': 'Meeting',\n",
        "    'type': 'object',\n",
        "}\n",
        "\"\"\""
      ],
      "metadata": {
        "colab": {
          "base_uri": "https://localhost:8080/",
          "height": 107
        },
        "id": "CZtP3SyuE-ZH",
        "outputId": "51a13736-396a-4570-942f-257293aad264"
      },
      "execution_count": 12,
      "outputs": [
        {
          "output_type": "stream",
          "name": "stdout",
          "text": [
            "{'when': datetime.datetime(2020, 1, 1, 12, 0), 'where': b'home'}\n",
            "{'properties': {'when': {'format': 'date-time', 'title': 'When', 'type': 'string'}, 'where': {'format': 'binary', 'title': 'Where', 'type': 'string'}, 'why': {'title': 'Why', 'type': 'string'}}, 'required': ['when', 'where'], 'title': 'Meeting', 'type': 'object'}\n"
          ]
        },
        {
          "output_type": "execute_result",
          "data": {
            "text/plain": [
              "\"\\n{\\n    'properties': {\\n        'when': {'format': 'date-time', 'title': 'When', 'type': 'string'},\\n        'where': {'format': 'binary', 'title': 'Where', 'type': 'string'},\\n        'why': {'title': 'Why', 'type': 'string'},\\n    },\\n    'required': ['when', 'where'],\\n    'title': 'Meeting',\\n    'type': 'object',\\n}\\n\""
            ],
            "application/vnd.google.colaboratory.intrinsic+json": {
              "type": "string"
            }
          },
          "metadata": {},
          "execution_count": 12
        }
      ]
    },
    {
      "cell_type": "markdown",
      "source": [
        "## Example 10 - Customisation"
      ],
      "metadata": {
        "id": "_RmvliZuFbWy"
      }
    },
    {
      "cell_type": "code",
      "source": [
        "from datetime import datetime, timezone\n",
        "\n",
        "from pydantic import BaseModel, field_validator\n",
        "\n",
        "\n",
        "class Meeting(BaseModel):\n",
        "    when: datetime\n",
        "\n",
        "    @field_validator('when', mode='wrap')\n",
        "    def when_now(cls, input_value, handler):\n",
        "        if input_value == 'now':\n",
        "            return datetime.now()\n",
        "        when = handler(input_value)\n",
        "        # in this specific application we know tz naive datetimes are in UTC\n",
        "        if when.tzinfo is None:\n",
        "            when = when.replace(tzinfo=timezone.utc)\n",
        "        return when\n",
        "\n",
        "\n",
        "print(Meeting(when='2020-01-01T12:00+01:00'))\n",
        "#> when=datetime.datetime(2020, 1, 1, 12, 0, tzinfo=TzInfo(+01:00))\n",
        "print(Meeting(when='now'))\n",
        "#> when=datetime.datetime(2032, 1, 2, 3, 4, 5, 6)\n",
        "print(Meeting(when='2020-01-01T12:00'))\n",
        "#> when=datetime.datetime(2020, 1, 1, 12, 0, tzinfo=datetime.timezone.utc)"
      ],
      "metadata": {
        "colab": {
          "base_uri": "https://localhost:8080/"
        },
        "id": "c9JXK3zOFc7N",
        "outputId": "5feb84a7-53e0-46b1-cc64-690ea9d87dbb"
      },
      "execution_count": 13,
      "outputs": [
        {
          "output_type": "stream",
          "name": "stdout",
          "text": [
            "when=datetime.datetime(2020, 1, 1, 12, 0, tzinfo=TzInfo(+01:00))\n",
            "when=datetime.datetime(2024, 7, 8, 11, 24, 25, 141973)\n",
            "when=datetime.datetime(2020, 1, 1, 12, 0, tzinfo=datetime.timezone.utc)\n"
          ]
        }
      ]
    }
  ]
}